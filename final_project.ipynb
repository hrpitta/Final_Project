{
 "cells": [
  {
   "cell_type": "code",
   "execution_count": 1,
   "metadata": {},
   "outputs": [],
   "source": [
    "import pyspark\n",
    "# Read in data from S3 Buckets\n",
    "from pyspark import SparkFiles, SparkContext\n",
    "from pyspark.sql.session import SparkSession\n",
    "sc = SparkContext('local')\n",
    "spark = SparkSession(sc)"
   ]
  },
  {
   "cell_type": "code",
   "execution_count": 2,
   "metadata": {},
   "outputs": [
    {
     "name": "stdout",
     "output_type": "stream",
     "text": [
      "+-------+----------+--------+--------+------------+-------+-------------------------+----------------------+-----+\n",
      "|EN_YEAR|EN_QUARTER|EN_MONTH|FR_ANNEÉ|FR_TRIMESTRE|FR_MOIS|EN_COUNTRY_OF_CITIZENSHIP|FR_PAYS_DE_CITOYENNETÉ|TOTAL|\n",
      "+-------+----------+--------+--------+------------+-------+-------------------------+----------------------+-----+\n",
      "|   2018|        Q3|     Jul|    2018|          T3|  juil.|                  Germany|             Allemagne|  120|\n",
      "|   2017|        Q4|     Oct|    2017|          T4|   oct.|                   Israel|                Israël|  125|\n",
      "|   2016|        Q1|     Mar|    2016|          T1|   mars|                   Cyprus|                Chypre|    5|\n",
      "|   2018|        Q4|     Nov|    2018|          T4|   nov.|                 Bulgaria|              Bulgarie|   15|\n",
      "|   2016|        Q4|     Oct|    2016|          T4|   oct.|                  Denmark|              Danemark|    5|\n",
      "|   2016|        Q3|     Sep|    2016|          T3|  sept.|        Chad, Republic of|  Tchad, République du|    5|\n",
      "|   2018|        Q3|     Jul|    2018|          T3|  juil.|       Korea, Republic of|  Corée, République de|  435|\n",
      "|   2017|        Q4|     Oct|    2017|          T4|   oct.|                  Ukraine|               Ukraine|  215|\n",
      "|   2015|        Q1|     Feb|    2015|          T1|   fév.|       Bosnia-Herzegovina|    Bosnie-Herzégovine|   10|\n",
      "|   2016|        Q4|     Oct|    2016|          T4|   oct.|                  Uruguay|               Uruguay|   --|\n",
      "|   2018|        Q4|     Nov|    2018|          T4|   nov.|                  Eritrea|              Érythrée|  645|\n",
      "|   2018|        Q4|     Nov|    2018|          T4|   nov.|              New Zealand|      Nouvelle-Zélande|   25|\n",
      "|   2017|        Q4|     Dec|    2017|          T4|   déc.|                   Turkey|               Turquie|   95|\n",
      "|   2016|        Q3|     Aug|    2016|          T3|   août|          Myanmar (Burma)|    Myanmar (Birmanie)|   30|\n",
      "|   2018|        Q4|     Oct|    2018|          T4|   oct.|               Mozambique|            Mozambique|   --|\n",
      "|   2018|        Q1|     Jan|    2018|          T1|  janv.|                    Chile|                 Chili|   45|\n",
      "|   2017|        Q4|     Nov|    2017|          T4|   nov.|          Other Countries|           Autres pays|   --|\n",
      "|   2015|        Q1|     Mar|    2015|          T1|   mars|                  Nigeria|               Nigéria|  380|\n",
      "|   2016|        Q3|     Aug|    2016|          T3|   août|                   Guyana|                Guyane|   45|\n",
      "|   2015|        Q4|     Dec|    2015|          T4|   déc.|                   Taiwan|                Taïwan|   65|\n",
      "+-------+----------+--------+--------+------------+-------+-------------------------+----------------------+-----+\n",
      "only showing top 20 rows\n",
      "\n"
     ]
    }
   ],
   "source": [
    "# Load in data\n",
    "url = \"https://finalproject-uoft.s3.amazonaws.com/IRCC_M_PRadmiss_0002_CSV.csv\"\n",
    "spark.sparkContext.addFile(url)\n",
    "df = spark.read.csv(SparkFiles.get(\"IRCC_M_PRadmiss_0002_CSV.csv\"), sep=\"\\t\", header=True, inferSchema=True)\n",
    "df.show()"
   ]
  },
  {
   "cell_type": "code",
   "execution_count": 3,
   "metadata": {},
   "outputs": [
    {
     "name": "stdout",
     "output_type": "stream",
     "text": [
      "root\n",
      " |-- EN_YEAR: integer (nullable = true)\n",
      " |-- EN_QUARTER: string (nullable = true)\n",
      " |-- EN_MONTH: string (nullable = true)\n",
      " |-- FR_ANNEÉ: integer (nullable = true)\n",
      " |-- FR_TRIMESTRE: string (nullable = true)\n",
      " |-- FR_MOIS: string (nullable = true)\n",
      " |-- EN_COUNTRY_OF_CITIZENSHIP: string (nullable = true)\n",
      " |-- FR_PAYS_DE_CITOYENNETÉ: string (nullable = true)\n",
      " |-- TOTAL: string (nullable = true)\n",
      "\n"
     ]
    }
   ],
   "source": [
    "# Show schema to confirm date type\n",
    "df.printSchema()"
   ]
  },
  {
   "cell_type": "code",
   "execution_count": 4,
   "metadata": {},
   "outputs": [],
   "source": [
    "# Drop Columns not using\n",
    "columns_to_drop = ['FR_ANNEÉ', 'FR_TRIMESTRE','FR_MOIS','FR_PAYS_DE_CITOYENNETÉ']\n",
    "df = df.drop(*columns_to_drop)"
   ]
  },
  {
   "cell_type": "code",
   "execution_count": 5,
   "metadata": {},
   "outputs": [
    {
     "name": "stdout",
     "output_type": "stream",
     "text": [
      "+-------+----------+--------+-------------------------+-----+\n",
      "|EN_YEAR|EN_QUARTER|EN_MONTH|EN_COUNTRY_OF_CITIZENSHIP|TOTAL|\n",
      "+-------+----------+--------+-------------------------+-----+\n",
      "|   2018|        Q3|     Jul|                  Germany|  120|\n",
      "|   2017|        Q4|     Oct|                   Israel|  125|\n",
      "|   2016|        Q1|     Mar|                   Cyprus|    5|\n",
      "|   2018|        Q4|     Nov|                 Bulgaria|   15|\n",
      "|   2016|        Q4|     Oct|                  Denmark|    5|\n",
      "|   2016|        Q3|     Sep|        Chad, Republic of|    5|\n",
      "|   2018|        Q3|     Jul|       Korea, Republic of|  435|\n",
      "|   2017|        Q4|     Oct|                  Ukraine|  215|\n",
      "|   2015|        Q1|     Feb|       Bosnia-Herzegovina|   10|\n",
      "|   2016|        Q4|     Oct|                  Uruguay|   --|\n",
      "|   2018|        Q4|     Nov|                  Eritrea|  645|\n",
      "|   2018|        Q4|     Nov|              New Zealand|   25|\n",
      "|   2017|        Q4|     Dec|                   Turkey|   95|\n",
      "|   2016|        Q3|     Aug|          Myanmar (Burma)|   30|\n",
      "|   2018|        Q4|     Oct|               Mozambique|   --|\n",
      "|   2018|        Q1|     Jan|                    Chile|   45|\n",
      "|   2017|        Q4|     Nov|          Other Countries|   --|\n",
      "|   2015|        Q1|     Mar|                  Nigeria|  380|\n",
      "|   2016|        Q3|     Aug|                   Guyana|   45|\n",
      "|   2015|        Q4|     Dec|                   Taiwan|   65|\n",
      "+-------+----------+--------+-------------------------+-----+\n",
      "only showing top 20 rows\n",
      "\n"
     ]
    }
   ],
   "source": [
    "df.show()"
   ]
  },
  {
   "cell_type": "code",
   "execution_count": 6,
   "metadata": {},
   "outputs": [
    {
     "data": {
      "text/plain": [
       "8646"
      ]
     },
     "execution_count": 6,
     "metadata": {},
     "output_type": "execute_result"
    }
   ],
   "source": [
    "df.count()"
   ]
  },
  {
   "cell_type": "code",
   "execution_count": 7,
   "metadata": {},
   "outputs": [],
   "source": [
    "from pyspark.sql.types import IntegerType\n",
    "\n",
    "newdf = df.withColumn(\"TOTAL\", df[\"TOTAL\"].cast(IntegerType()))"
   ]
  },
  {
   "cell_type": "code",
   "execution_count": 8,
   "metadata": {},
   "outputs": [
    {
     "name": "stdout",
     "output_type": "stream",
     "text": [
      "root\n",
      " |-- EN_YEAR: integer (nullable = true)\n",
      " |-- EN_QUARTER: string (nullable = true)\n",
      " |-- EN_MONTH: string (nullable = true)\n",
      " |-- EN_COUNTRY_OF_CITIZENSHIP: string (nullable = true)\n",
      " |-- TOTAL: integer (nullable = true)\n",
      "\n"
     ]
    }
   ],
   "source": [
    "newdf.printSchema()"
   ]
  },
  {
   "cell_type": "code",
   "execution_count": 9,
   "metadata": {},
   "outputs": [
    {
     "name": "stdout",
     "output_type": "stream",
     "text": [
      "+-------+----------+--------+-------------------------+-----+\n",
      "|EN_YEAR|EN_QUARTER|EN_MONTH|EN_COUNTRY_OF_CITIZENSHIP|TOTAL|\n",
      "+-------+----------+--------+-------------------------+-----+\n",
      "|   2018|        Q3|     Jul|                  Germany|  120|\n",
      "|   2017|        Q4|     Oct|                   Israel|  125|\n",
      "|   2016|        Q1|     Mar|                   Cyprus|    5|\n",
      "|   2018|        Q4|     Nov|                 Bulgaria|   15|\n",
      "|   2016|        Q4|     Oct|                  Denmark|    5|\n",
      "|   2016|        Q3|     Sep|        Chad, Republic of|    5|\n",
      "|   2018|        Q3|     Jul|       Korea, Republic of|  435|\n",
      "|   2017|        Q4|     Oct|                  Ukraine|  215|\n",
      "|   2015|        Q1|     Feb|       Bosnia-Herzegovina|   10|\n",
      "|   2016|        Q4|     Oct|                  Uruguay| null|\n",
      "|   2018|        Q4|     Nov|                  Eritrea|  645|\n",
      "|   2018|        Q4|     Nov|              New Zealand|   25|\n",
      "|   2017|        Q4|     Dec|                   Turkey|   95|\n",
      "|   2016|        Q3|     Aug|          Myanmar (Burma)|   30|\n",
      "|   2018|        Q4|     Oct|               Mozambique| null|\n",
      "|   2018|        Q1|     Jan|                    Chile|   45|\n",
      "|   2017|        Q4|     Nov|          Other Countries| null|\n",
      "|   2015|        Q1|     Mar|                  Nigeria|  380|\n",
      "|   2016|        Q3|     Aug|                   Guyana|   45|\n",
      "|   2015|        Q4|     Dec|                   Taiwan|   65|\n",
      "+-------+----------+--------+-------------------------+-----+\n",
      "only showing top 20 rows\n",
      "\n"
     ]
    }
   ],
   "source": [
    "newdf.show()"
   ]
  },
  {
   "cell_type": "code",
   "execution_count": 10,
   "metadata": {},
   "outputs": [],
   "source": [
    "#year_df = df.orderBy('EN_YEAR').select('EN_YEAR').distinct().toPandas()\n",
    "#year_df.head()\n",
    "#df.select('EN_YEAR').distinct().show()\n",
    "yeardf = df.orderBy('EN_YEAR').select('EN_YEAR').distinct()"
   ]
  },
  {
   "cell_type": "code",
   "execution_count": 11,
   "metadata": {},
   "outputs": [
    {
     "data": {
      "text/html": [
       "<div>\n",
       "<style scoped>\n",
       "    .dataframe tbody tr th:only-of-type {\n",
       "        vertical-align: middle;\n",
       "    }\n",
       "\n",
       "    .dataframe tbody tr th {\n",
       "        vertical-align: top;\n",
       "    }\n",
       "\n",
       "    .dataframe thead th {\n",
       "        text-align: right;\n",
       "    }\n",
       "</style>\n",
       "<table border=\"1\" class=\"dataframe\">\n",
       "  <thead>\n",
       "    <tr style=\"text-align: right;\">\n",
       "      <th></th>\n",
       "      <th>EN_YEAR</th>\n",
       "    </tr>\n",
       "  </thead>\n",
       "  <tbody>\n",
       "    <tr>\n",
       "      <th>0</th>\n",
       "      <td>2015</td>\n",
       "    </tr>\n",
       "    <tr>\n",
       "      <th>1</th>\n",
       "      <td>2016</td>\n",
       "    </tr>\n",
       "    <tr>\n",
       "      <th>2</th>\n",
       "      <td>2017</td>\n",
       "    </tr>\n",
       "    <tr>\n",
       "      <th>3</th>\n",
       "      <td>2018</td>\n",
       "    </tr>\n",
       "    <tr>\n",
       "      <th>4</th>\n",
       "      <td>2019</td>\n",
       "    </tr>\n",
       "  </tbody>\n",
       "</table>\n",
       "</div>"
      ],
      "text/plain": [
       "   EN_YEAR\n",
       "0     2015\n",
       "1     2016\n",
       "2     2017\n",
       "3     2018\n",
       "4     2019"
      ]
     },
     "execution_count": 11,
     "metadata": {},
     "output_type": "execute_result"
    }
   ],
   "source": [
    "year_df = df.orderBy('EN_YEAR').select('EN_YEAR').distinct().toPandas()\n",
    "year_df.head()"
   ]
  },
  {
   "cell_type": "code",
   "execution_count": 12,
   "metadata": {},
   "outputs": [],
   "source": [
    "year_df['id'] = year_df.index+100"
   ]
  },
  {
   "cell_type": "code",
   "execution_count": 13,
   "metadata": {},
   "outputs": [
    {
     "data": {
      "text/html": [
       "<div>\n",
       "<style scoped>\n",
       "    .dataframe tbody tr th:only-of-type {\n",
       "        vertical-align: middle;\n",
       "    }\n",
       "\n",
       "    .dataframe tbody tr th {\n",
       "        vertical-align: top;\n",
       "    }\n",
       "\n",
       "    .dataframe thead th {\n",
       "        text-align: right;\n",
       "    }\n",
       "</style>\n",
       "<table border=\"1\" class=\"dataframe\">\n",
       "  <thead>\n",
       "    <tr style=\"text-align: right;\">\n",
       "      <th></th>\n",
       "      <th>EN_YEAR</th>\n",
       "      <th>id</th>\n",
       "    </tr>\n",
       "  </thead>\n",
       "  <tbody>\n",
       "    <tr>\n",
       "      <th>0</th>\n",
       "      <td>2015</td>\n",
       "      <td>100</td>\n",
       "    </tr>\n",
       "    <tr>\n",
       "      <th>1</th>\n",
       "      <td>2016</td>\n",
       "      <td>101</td>\n",
       "    </tr>\n",
       "    <tr>\n",
       "      <th>2</th>\n",
       "      <td>2017</td>\n",
       "      <td>102</td>\n",
       "    </tr>\n",
       "    <tr>\n",
       "      <th>3</th>\n",
       "      <td>2018</td>\n",
       "      <td>103</td>\n",
       "    </tr>\n",
       "    <tr>\n",
       "      <th>4</th>\n",
       "      <td>2019</td>\n",
       "      <td>104</td>\n",
       "    </tr>\n",
       "  </tbody>\n",
       "</table>\n",
       "</div>"
      ],
      "text/plain": [
       "   EN_YEAR   id\n",
       "0     2015  100\n",
       "1     2016  101\n",
       "2     2017  102\n",
       "3     2018  103\n",
       "4     2019  104"
      ]
     },
     "execution_count": 13,
     "metadata": {},
     "output_type": "execute_result"
    }
   ],
   "source": [
    "year_df.head()"
   ]
  },
  {
   "cell_type": "code",
   "execution_count": 14,
   "metadata": {},
   "outputs": [
    {
     "name": "stdout",
     "output_type": "stream",
     "text": [
      "+-------+\n",
      "|EN_YEAR|\n",
      "+-------+\n",
      "|   2015|\n",
      "|   2016|\n",
      "|   2017|\n",
      "|   2018|\n",
      "|   2019|\n",
      "+-------+\n",
      "\n"
     ]
    }
   ],
   "source": [
    "yeardf.show()"
   ]
  },
  {
   "cell_type": "code",
   "execution_count": 15,
   "metadata": {},
   "outputs": [
    {
     "name": "stdout",
     "output_type": "stream",
     "text": [
      "+-------------------------+\n",
      "|EN_COUNTRY_OF_CITIZENSHIP|\n",
      "+-------------------------+\n",
      "|              Afghanistan|\n",
      "|                  Albania|\n",
      "|                  Algeria|\n",
      "|                  Andorra|\n",
      "|                   Angola|\n",
      "|      Antigua and Barbuda|\n",
      "|                Argentina|\n",
      "|                  Armenia|\n",
      "|                Australia|\n",
      "|                  Austria|\n",
      "|               Azerbaijan|\n",
      "|      Bahama Islands, The|\n",
      "|                  Bahrain|\n",
      "|               Bangladesh|\n",
      "|                 Barbados|\n",
      "|                  Belarus|\n",
      "|                  Belgium|\n",
      "|                   Belize|\n",
      "|       Benin, Republic of|\n",
      "|                   Bhutan|\n",
      "+-------------------------+\n",
      "only showing top 20 rows\n",
      "\n"
     ]
    }
   ],
   "source": [
    "countrydf = df.orderBy('EN_COUNTRY_OF_CITIZENSHIP').select('EN_COUNTRY_OF_CITIZENSHIP').distinct()\n",
    "countrydf.show()"
   ]
  },
  {
   "cell_type": "code",
   "execution_count": 16,
   "metadata": {},
   "outputs": [
    {
     "data": {
      "text/plain": [
       "196"
      ]
     },
     "execution_count": 16,
     "metadata": {},
     "output_type": "execute_result"
    }
   ],
   "source": [
    "countrydf.count()"
   ]
  },
  {
   "cell_type": "code",
   "execution_count": 17,
   "metadata": {},
   "outputs": [],
   "source": [
    "datedf = df.orderBy('EN_QUARTER','EN_MONTH').select('EN_QUARTER','EN_MONTH').distinct()"
   ]
  },
  {
   "cell_type": "code",
   "execution_count": 18,
   "metadata": {},
   "outputs": [],
   "source": [
    "date_df = df.orderBy('EN_QUARTER','EN_MONTH').select('EN_QUARTER','EN_MONTH').distinct().toPandas()"
   ]
  },
  {
   "cell_type": "code",
   "execution_count": 19,
   "metadata": {},
   "outputs": [],
   "source": [
    "import datetime\n",
    "#month_number = datetime.datetime.strptime(date_df['EN_MONTH'], '%b').month\n",
    "\n",
    "#train['date1'] = train['ID'].apply(lambda x: datetime.strptime(x, '%Y%m%d%H'))\n",
    "\n",
    "date_df['month_number'] = date_df['EN_MONTH'].apply(lambda x: datetime.datetime.strptime(x, '%b').month)"
   ]
  },
  {
   "cell_type": "code",
   "execution_count": 20,
   "metadata": {},
   "outputs": [
    {
     "data": {
      "text/html": [
       "<div>\n",
       "<style scoped>\n",
       "    .dataframe tbody tr th:only-of-type {\n",
       "        vertical-align: middle;\n",
       "    }\n",
       "\n",
       "    .dataframe tbody tr th {\n",
       "        vertical-align: top;\n",
       "    }\n",
       "\n",
       "    .dataframe thead th {\n",
       "        text-align: right;\n",
       "    }\n",
       "</style>\n",
       "<table border=\"1\" class=\"dataframe\">\n",
       "  <thead>\n",
       "    <tr style=\"text-align: right;\">\n",
       "      <th></th>\n",
       "      <th>EN_QUARTER</th>\n",
       "      <th>EN_MONTH</th>\n",
       "      <th>month_number</th>\n",
       "    </tr>\n",
       "  </thead>\n",
       "  <tbody>\n",
       "    <tr>\n",
       "      <th>0</th>\n",
       "      <td>Q1</td>\n",
       "      <td>Feb</td>\n",
       "      <td>2</td>\n",
       "    </tr>\n",
       "    <tr>\n",
       "      <th>1</th>\n",
       "      <td>Q1</td>\n",
       "      <td>Jan</td>\n",
       "      <td>1</td>\n",
       "    </tr>\n",
       "    <tr>\n",
       "      <th>2</th>\n",
       "      <td>Q1</td>\n",
       "      <td>Mar</td>\n",
       "      <td>3</td>\n",
       "    </tr>\n",
       "    <tr>\n",
       "      <th>3</th>\n",
       "      <td>Q2</td>\n",
       "      <td>Apr</td>\n",
       "      <td>4</td>\n",
       "    </tr>\n",
       "    <tr>\n",
       "      <th>4</th>\n",
       "      <td>Q2</td>\n",
       "      <td>Jun</td>\n",
       "      <td>6</td>\n",
       "    </tr>\n",
       "  </tbody>\n",
       "</table>\n",
       "</div>"
      ],
      "text/plain": [
       "  EN_QUARTER EN_MONTH  month_number\n",
       "0         Q1      Feb             2\n",
       "1         Q1      Jan             1\n",
       "2         Q1      Mar             3\n",
       "3         Q2      Apr             4\n",
       "4         Q2      Jun             6"
      ]
     },
     "execution_count": 20,
     "metadata": {},
     "output_type": "execute_result"
    }
   ],
   "source": [
    "date_df.head()"
   ]
  },
  {
   "cell_type": "code",
   "execution_count": 21,
   "metadata": {},
   "outputs": [
    {
     "name": "stdout",
     "output_type": "stream",
     "text": [
      "+----------+--------+\n",
      "|EN_QUARTER|EN_MONTH|\n",
      "+----------+--------+\n",
      "|        Q1|     Feb|\n",
      "|        Q1|     Jan|\n",
      "|        Q1|     Mar|\n",
      "|        Q2|     Apr|\n",
      "|        Q2|     Jun|\n",
      "|        Q2|     May|\n",
      "|        Q3|     Aug|\n",
      "|        Q3|     Jul|\n",
      "|        Q3|     Sep|\n",
      "|        Q4|     Dec|\n",
      "|        Q4|     Nov|\n",
      "|        Q4|     Oct|\n",
      "+----------+--------+\n",
      "\n"
     ]
    }
   ],
   "source": [
    "datedf.show()"
   ]
  },
  {
   "cell_type": "code",
   "execution_count": 37,
   "metadata": {},
   "outputs": [],
   "source": [
    "from pyspark.sql.types import StringType, IntegerType\n",
    "from pyspark.sql.functions import udf\n",
    "\n",
    "#maturity_udf = udf(lambda age: \"adult\" if age >=18 else \"child\", StringType())\n",
    "month_udf = udf(lambda x: datetime.datetime.strptime(x, '%b').month)\n",
    "\n",
    "#df = sqlContext.createDataFrame([{'name': 'Alice', 'age': 1}])\n",
    "datedf = datedf.withColumn(\"month_num\", month_udf(datedf.EN_MONTH))\n"
   ]
  },
  {
   "cell_type": "code",
   "execution_count": 39,
   "metadata": {},
   "outputs": [
    {
     "name": "stdout",
     "output_type": "stream",
     "text": [
      "root\n",
      " |-- EN_QUARTER: string (nullable = true)\n",
      " |-- EN_MONTH: string (nullable = true)\n",
      " |-- month_num: string (nullable = true)\n",
      "\n"
     ]
    }
   ],
   "source": [
    "datedf.printSchema()"
   ]
  },
  {
   "cell_type": "code",
   "execution_count": 40,
   "metadata": {},
   "outputs": [
    {
     "name": "stdout",
     "output_type": "stream",
     "text": [
      "+----------+--------+---------+\n",
      "|EN_QUARTER|EN_MONTH|month_num|\n",
      "+----------+--------+---------+\n",
      "|        Q1|     Feb|        2|\n",
      "|        Q1|     Jan|        1|\n",
      "|        Q1|     Mar|        3|\n",
      "|        Q2|     Apr|        4|\n",
      "|        Q2|     Jun|        6|\n",
      "|        Q2|     May|        5|\n",
      "|        Q3|     Aug|        8|\n",
      "|        Q3|     Jul|        7|\n",
      "|        Q3|     Sep|        9|\n",
      "|        Q4|     Dec|       12|\n",
      "|        Q4|     Nov|       11|\n",
      "|        Q4|     Oct|       10|\n",
      "+----------+--------+---------+\n",
      "\n"
     ]
    }
   ],
   "source": [
    "datedf.show()"
   ]
  },
  {
   "cell_type": "code",
   "execution_count": 42,
   "metadata": {},
   "outputs": [
    {
     "name": "stdout",
     "output_type": "stream",
     "text": [
      "+---------+-----+-------+\n",
      "|month_num|month|quarter|\n",
      "+---------+-----+-------+\n",
      "|        2|  Feb|     Q1|\n",
      "|        1|  Jan|     Q1|\n",
      "|        3|  Mar|     Q1|\n",
      "|        4|  Apr|     Q2|\n",
      "|        6|  Jun|     Q2|\n",
      "|        5|  May|     Q2|\n",
      "|        8|  Aug|     Q3|\n",
      "|        7|  Jul|     Q3|\n",
      "|        9|  Sep|     Q3|\n",
      "|       12|  Dec|     Q4|\n",
      "|       11|  Nov|     Q4|\n",
      "|       10|  Oct|     Q4|\n",
      "+---------+-----+-------+\n",
      "\n",
      "root\n",
      " |-- month_num: string (nullable = true)\n",
      " |-- month: string (nullable = true)\n",
      " |-- quarter: string (nullable = true)\n",
      "\n"
     ]
    }
   ],
   "source": [
    "datedf_exp = datedf.selectExpr(\"month_num\", \"EN_MONTH as month\", \"EN_QUARTER as quarter\" )\n",
    "datedf_exp.show()\n",
    "datedf_exp.printSchema()"
   ]
  },
  {
   "cell_type": "code",
   "execution_count": 43,
   "metadata": {},
   "outputs": [],
   "source": [
    "# Change ID type\n",
    "datedf_exp = datedf_exp.withColumn(\"month_num\", datedf_exp[\"month_num\"].cast(IntegerType()))"
   ]
  },
  {
   "cell_type": "code",
   "execution_count": 44,
   "metadata": {},
   "outputs": [
    {
     "name": "stdout",
     "output_type": "stream",
     "text": [
      "+---------+-----+-------+\n",
      "|month_num|month|quarter|\n",
      "+---------+-----+-------+\n",
      "|        2|  Feb|     Q1|\n",
      "|        1|  Jan|     Q1|\n",
      "|        3|  Mar|     Q1|\n",
      "|        4|  Apr|     Q2|\n",
      "|        6|  Jun|     Q2|\n",
      "|        5|  May|     Q2|\n",
      "|        8|  Aug|     Q3|\n",
      "|        7|  Jul|     Q3|\n",
      "|        9|  Sep|     Q3|\n",
      "|       12|  Dec|     Q4|\n",
      "|       11|  Nov|     Q4|\n",
      "|       10|  Oct|     Q4|\n",
      "+---------+-----+-------+\n",
      "\n",
      "root\n",
      " |-- month_num: integer (nullable = true)\n",
      " |-- month: string (nullable = true)\n",
      " |-- quarter: string (nullable = true)\n",
      "\n"
     ]
    }
   ],
   "source": [
    "datedf_exp.show()\n",
    "datedf_exp.printSchema()"
   ]
  },
  {
   "cell_type": "code",
   "execution_count": 23,
   "metadata": {},
   "outputs": [],
   "source": [
    "# Import date time functions\n",
    "from pyspark.sql.functions import year, month\n",
    "from pyspark.sql.functions import udf"
   ]
  },
  {
   "cell_type": "code",
   "execution_count": 24,
   "metadata": {},
   "outputs": [],
   "source": [
    "def month_string_to_number(string):\n",
    "    m = {\n",
    "        'jan': 1,\n",
    "        'feb': 2,\n",
    "        'mar': 3,\n",
    "        'apr':4,\n",
    "         'may':5,\n",
    "         'jun':6,\n",
    "         'jul':7,\n",
    "         'aug':8,\n",
    "         'sep':9,\n",
    "         'oct':10,\n",
    "         'nov':11,\n",
    "         'dec':12\n",
    "        }\n",
    "    s = string.strip()[:3].lower()\n",
    "\n",
    "    try:\n",
    "        out = m[s]\n",
    "        return out\n",
    "    except:\n",
    "        raise ValueError('Not a month')\n",
    "monthWithPython = udf(lambda z: month_converter(z), IntegerType())"
   ]
  },
  {
   "cell_type": "code",
   "execution_count": 25,
   "metadata": {},
   "outputs": [],
   "source": [
    "def month_converter(month):\n",
    "    months = ['Jan', 'Feb', 'Mar', 'Apr', 'May', 'Jun', 'Jul', 'Aug', 'Sep', 'Oct', 'Nov', 'Dec']\n",
    "    return months.index(month) + 1\n",
    "monthWithPython2 = udf(lambda z: month_converter(z), IntegerType())"
   ]
  },
  {
   "cell_type": "code",
   "execution_count": 41,
   "metadata": {},
   "outputs": [
    {
     "data": {
      "text/plain": [
       "pyspark.sql.dataframe.DataFrame"
      ]
     },
     "execution_count": 41,
     "metadata": {},
     "output_type": "execute_result"
    }
   ],
   "source": [
    "type(datedf)"
   ]
  },
  {
   "cell_type": "code",
   "execution_count": 46,
   "metadata": {},
   "outputs": [
    {
     "data": {
      "text/html": [
       "<div>\n",
       "<style scoped>\n",
       "    .dataframe tbody tr th:only-of-type {\n",
       "        vertical-align: middle;\n",
       "    }\n",
       "\n",
       "    .dataframe tbody tr th {\n",
       "        vertical-align: top;\n",
       "    }\n",
       "\n",
       "    .dataframe thead th {\n",
       "        text-align: right;\n",
       "    }\n",
       "</style>\n",
       "<table border=\"1\" class=\"dataframe\">\n",
       "  <thead>\n",
       "    <tr style=\"text-align: right;\">\n",
       "      <th></th>\n",
       "      <th>id</th>\n",
       "      <th>year</th>\n",
       "    </tr>\n",
       "  </thead>\n",
       "  <tbody>\n",
       "    <tr>\n",
       "      <th>0</th>\n",
       "      <td>100</td>\n",
       "      <td>2015</td>\n",
       "    </tr>\n",
       "    <tr>\n",
       "      <th>1</th>\n",
       "      <td>101</td>\n",
       "      <td>2016</td>\n",
       "    </tr>\n",
       "    <tr>\n",
       "      <th>2</th>\n",
       "      <td>102</td>\n",
       "      <td>2017</td>\n",
       "    </tr>\n",
       "    <tr>\n",
       "      <th>3</th>\n",
       "      <td>103</td>\n",
       "      <td>2018</td>\n",
       "    </tr>\n",
       "    <tr>\n",
       "      <th>4</th>\n",
       "      <td>104</td>\n",
       "      <td>2019</td>\n",
       "    </tr>\n",
       "  </tbody>\n",
       "</table>\n",
       "</div>"
      ],
      "text/plain": [
       "    id  year\n",
       "0  100  2015\n",
       "1  101  2016\n",
       "2  102  2017\n",
       "3  103  2018\n",
       "4  104  2019"
      ]
     },
     "execution_count": 46,
     "metadata": {},
     "output_type": "execute_result"
    }
   ],
   "source": [
    "year_df.rename(columns={'EN_YEAR':'year'}, inplace=True)\n",
    "year_df = year_df[['id', 'year']]\n",
    "year_df.head()"
   ]
  },
  {
   "cell_type": "code",
   "execution_count": 47,
   "metadata": {},
   "outputs": [
    {
     "name": "stdout",
     "output_type": "stream",
     "text": [
      "+---+----+\n",
      "| id|year|\n",
      "+---+----+\n",
      "|100|2015|\n",
      "|101|2016|\n",
      "|102|2017|\n",
      "|103|2018|\n",
      "|104|2019|\n",
      "+---+----+\n",
      "\n",
      "root\n",
      " |-- id: long (nullable = true)\n",
      " |-- year: long (nullable = true)\n",
      "\n"
     ]
    }
   ],
   "source": [
    "year_exp = spark.createDataFrame(year_df)\n",
    "year_exp.show()\n",
    "year_exp.printSchema()"
   ]
  },
  {
   "cell_type": "code",
   "execution_count": 48,
   "metadata": {},
   "outputs": [
    {
     "name": "stdout",
     "output_type": "stream",
     "text": [
      "root\n",
      " |-- id: integer (nullable = true)\n",
      " |-- year: integer (nullable = true)\n",
      "\n"
     ]
    }
   ],
   "source": [
    "# Change ID type\n",
    "year_exp = year_exp.withColumn(\"id\", year_exp[\"id\"].cast(IntegerType()))\n",
    "year_exp = year_exp.withColumn(\"year\", year_exp[\"year\"].cast(IntegerType()))\n",
    "year_exp.printSchema()\n"
   ]
  },
  {
   "cell_type": "code",
   "execution_count": 28,
   "metadata": {},
   "outputs": [],
   "source": [
    "country_df = df.orderBy('EN_COUNTRY_OF_CITIZENSHIP').select('EN_COUNTRY_OF_CITIZENSHIP').distinct().toPandas()"
   ]
  },
  {
   "cell_type": "code",
   "execution_count": 29,
   "metadata": {},
   "outputs": [
    {
     "data": {
      "text/html": [
       "<div>\n",
       "<style scoped>\n",
       "    .dataframe tbody tr th:only-of-type {\n",
       "        vertical-align: middle;\n",
       "    }\n",
       "\n",
       "    .dataframe tbody tr th {\n",
       "        vertical-align: top;\n",
       "    }\n",
       "\n",
       "    .dataframe thead th {\n",
       "        text-align: right;\n",
       "    }\n",
       "</style>\n",
       "<table border=\"1\" class=\"dataframe\">\n",
       "  <thead>\n",
       "    <tr style=\"text-align: right;\">\n",
       "      <th></th>\n",
       "      <th>EN_COUNTRY_OF_CITIZENSHIP</th>\n",
       "      <th>country_id</th>\n",
       "    </tr>\n",
       "  </thead>\n",
       "  <tbody>\n",
       "    <tr>\n",
       "      <th>0</th>\n",
       "      <td>Afghanistan</td>\n",
       "      <td>1000</td>\n",
       "    </tr>\n",
       "    <tr>\n",
       "      <th>1</th>\n",
       "      <td>Albania</td>\n",
       "      <td>1001</td>\n",
       "    </tr>\n",
       "    <tr>\n",
       "      <th>2</th>\n",
       "      <td>Algeria</td>\n",
       "      <td>1002</td>\n",
       "    </tr>\n",
       "    <tr>\n",
       "      <th>3</th>\n",
       "      <td>Andorra</td>\n",
       "      <td>1003</td>\n",
       "    </tr>\n",
       "    <tr>\n",
       "      <th>4</th>\n",
       "      <td>Angola</td>\n",
       "      <td>1004</td>\n",
       "    </tr>\n",
       "  </tbody>\n",
       "</table>\n",
       "</div>"
      ],
      "text/plain": [
       "  EN_COUNTRY_OF_CITIZENSHIP  country_id\n",
       "0               Afghanistan        1000\n",
       "1                   Albania        1001\n",
       "2                   Algeria        1002\n",
       "3                   Andorra        1003\n",
       "4                    Angola        1004"
      ]
     },
     "execution_count": 29,
     "metadata": {},
     "output_type": "execute_result"
    }
   ],
   "source": [
    "country_df['country_id'] = country_df.index+1000\n",
    "country_df.count()\n",
    "country_df.head()"
   ]
  },
  {
   "cell_type": "code",
   "execution_count": 30,
   "metadata": {},
   "outputs": [
    {
     "data": {
      "text/html": [
       "<div>\n",
       "<style scoped>\n",
       "    .dataframe tbody tr th:only-of-type {\n",
       "        vertical-align: middle;\n",
       "    }\n",
       "\n",
       "    .dataframe tbody tr th {\n",
       "        vertical-align: top;\n",
       "    }\n",
       "\n",
       "    .dataframe thead th {\n",
       "        text-align: right;\n",
       "    }\n",
       "</style>\n",
       "<table border=\"1\" class=\"dataframe\">\n",
       "  <thead>\n",
       "    <tr style=\"text-align: right;\">\n",
       "      <th></th>\n",
       "      <th>country_id</th>\n",
       "      <th>country</th>\n",
       "    </tr>\n",
       "  </thead>\n",
       "  <tbody>\n",
       "    <tr>\n",
       "      <th>0</th>\n",
       "      <td>1000</td>\n",
       "      <td>Afghanistan</td>\n",
       "    </tr>\n",
       "    <tr>\n",
       "      <th>1</th>\n",
       "      <td>1001</td>\n",
       "      <td>Albania</td>\n",
       "    </tr>\n",
       "    <tr>\n",
       "      <th>2</th>\n",
       "      <td>1002</td>\n",
       "      <td>Algeria</td>\n",
       "    </tr>\n",
       "    <tr>\n",
       "      <th>3</th>\n",
       "      <td>1003</td>\n",
       "      <td>Andorra</td>\n",
       "    </tr>\n",
       "    <tr>\n",
       "      <th>4</th>\n",
       "      <td>1004</td>\n",
       "      <td>Angola</td>\n",
       "    </tr>\n",
       "  </tbody>\n",
       "</table>\n",
       "</div>"
      ],
      "text/plain": [
       "   country_id      country\n",
       "0        1000  Afghanistan\n",
       "1        1001      Albania\n",
       "2        1002      Algeria\n",
       "3        1003      Andorra\n",
       "4        1004       Angola"
      ]
     },
     "execution_count": 30,
     "metadata": {},
     "output_type": "execute_result"
    }
   ],
   "source": [
    "country_df.rename( columns={\"EN_COUNTRY_OF_CITIZENSHIP\": \"country\"}, inplace=True)\n",
    "country_df = country_df[['country_id','country']]\n",
    "country_df.head()"
   ]
  },
  {
   "cell_type": "code",
   "execution_count": 31,
   "metadata": {},
   "outputs": [
    {
     "name": "stdout",
     "output_type": "stream",
     "text": [
      "root\n",
      " |-- country_id: long (nullable = true)\n",
      " |-- country: string (nullable = true)\n",
      "\n"
     ]
    }
   ],
   "source": [
    "\n",
    "country_exp = spark.createDataFrame(country_df)\n",
    "country_exp.printSchema()"
   ]
  },
  {
   "cell_type": "code",
   "execution_count": 32,
   "metadata": {},
   "outputs": [],
   "source": [
    "# Change ID type\n",
    "country_exp = country_exp.withColumn(\"country_id\", country_exp[\"country_id\"].cast(IntegerType()))"
   ]
  },
  {
   "cell_type": "code",
   "execution_count": 33,
   "metadata": {},
   "outputs": [],
   "source": [
    "# Connect and insert Data in the DB\n",
    "\n",
    "# Configure settings for RDS\n",
    "mode = \"append\"\n",
    "# url = \"jdbc:postgresql://198.123.43.24:5432/kockpit\"\n",
    "jdbc_url=\"jdbc:postgresql://classetlproject.ckrgp7m80r1y.us-east-1.rds.amazonaws.com:5432/migration_ca\"\n",
    "config = {\"user\":\"root\", \n",
    "          \"password\": \"rootroot\", \n",
    "          \"driver\":\"org.postgresql.Driver\"}"
   ]
  },
  {
   "cell_type": "code",
   "execution_count": 35,
   "metadata": {},
   "outputs": [],
   "source": [
    "# Append DataFrame to active_user table in RDS\n",
    "\n",
    "country_exp.write.jdbc(url=jdbc_url, table='countries', mode=mode, properties=config)"
   ]
  },
  {
   "cell_type": "code",
   "execution_count": 45,
   "metadata": {},
   "outputs": [],
   "source": [
    "# Append DataFrame to active_user table in RDS\n",
    "\n",
    "datedf_exp.write.jdbc(url=jdbc_url, table='date', mode=mode, properties=config)"
   ]
  },
  {
   "cell_type": "code",
   "execution_count": 49,
   "metadata": {},
   "outputs": [],
   "source": [
    "# Append DataFrame to active_user table in RDS\n",
    "\n",
    "year_exp.write.jdbc(url=jdbc_url, table='years', mode=mode, properties=config)"
   ]
  },
  {
   "cell_type": "code",
   "execution_count": 50,
   "metadata": {},
   "outputs": [
    {
     "name": "stdout",
     "output_type": "stream",
     "text": [
      "+-------+----------+--------+-------------------------+-----+\n",
      "|EN_YEAR|EN_QUARTER|EN_MONTH|EN_COUNTRY_OF_CITIZENSHIP|TOTAL|\n",
      "+-------+----------+--------+-------------------------+-----+\n",
      "|   2018|        Q3|     Jul|                  Germany|  120|\n",
      "|   2017|        Q4|     Oct|                   Israel|  125|\n",
      "|   2016|        Q1|     Mar|                   Cyprus|    5|\n",
      "|   2018|        Q4|     Nov|                 Bulgaria|   15|\n",
      "|   2016|        Q4|     Oct|                  Denmark|    5|\n",
      "|   2016|        Q3|     Sep|        Chad, Republic of|    5|\n",
      "|   2018|        Q3|     Jul|       Korea, Republic of|  435|\n",
      "|   2017|        Q4|     Oct|                  Ukraine|  215|\n",
      "|   2015|        Q1|     Feb|       Bosnia-Herzegovina|   10|\n",
      "|   2016|        Q4|     Oct|                  Uruguay| null|\n",
      "|   2018|        Q4|     Nov|                  Eritrea|  645|\n",
      "|   2018|        Q4|     Nov|              New Zealand|   25|\n",
      "|   2017|        Q4|     Dec|                   Turkey|   95|\n",
      "|   2016|        Q3|     Aug|          Myanmar (Burma)|   30|\n",
      "|   2018|        Q4|     Oct|               Mozambique| null|\n",
      "|   2018|        Q1|     Jan|                    Chile|   45|\n",
      "|   2017|        Q4|     Nov|          Other Countries| null|\n",
      "|   2015|        Q1|     Mar|                  Nigeria|  380|\n",
      "|   2016|        Q3|     Aug|                   Guyana|   45|\n",
      "|   2015|        Q4|     Dec|                   Taiwan|   65|\n",
      "+-------+----------+--------+-------------------------+-----+\n",
      "only showing top 20 rows\n",
      "\n"
     ]
    }
   ],
   "source": [
    "newdf.show()"
   ]
  },
  {
   "cell_type": "code",
   "execution_count": 52,
   "metadata": {},
   "outputs": [],
   "source": [
    "# Append DataFrame to active_user table in RDS\n",
    "\n",
    "newdf.write.jdbc(url=jdbc_url, table='migration_stage', mode=mode, properties=config)"
   ]
  },
  {
   "cell_type": "code",
   "execution_count": null,
   "metadata": {},
   "outputs": [],
   "source": []
  }
 ],
 "metadata": {
  "kernelspec": {
   "display_name": "Python 3",
   "language": "python",
   "name": "python3"
  },
  "language_info": {
   "codemirror_mode": {
    "name": "ipython",
    "version": 3
   },
   "file_extension": ".py",
   "mimetype": "text/x-python",
   "name": "python",
   "nbconvert_exporter": "python",
   "pygments_lexer": "ipython3",
   "version": "3.7.3"
  }
 },
 "nbformat": 4,
 "nbformat_minor": 2
}
